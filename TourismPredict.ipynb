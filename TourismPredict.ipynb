{
  "cells": [
    {
      "cell_type": "markdown",
      "metadata": {
        "id": "ZKLseP9pMVHf"
      },
      "source": [
        "### The objective of this codes is to develop a machine learning model to predict what a tourist will spend when visiting Tanzania"
      ]
    },
    {
      "cell_type": "code",
      "execution_count": 4,
      "metadata": {
        "id": "3oFl_LesMVHw"
      },
      "outputs": [],
      "source": [
        "#importing the required modules\n",
        "\n",
        "import numpy as np\n",
        "import pandas as pd\n",
        "import matplotlib.pyplot as plt\n",
        "import seaborn as sns\n",
        "%matplotlib inline"
      ]
    },
    {
      "cell_type": "code",
      "source": [
        "#from google.colab import files\n",
        "#upload = files.upload()"
      ],
      "metadata": {
        "id": "VvaW-NoBM-07"
      },
      "execution_count": 5,
      "outputs": []
    },
    {
      "cell_type": "code",
      "execution_count": 6,
      "metadata": {
        "id": "gHdjJW6cMVH4"
      },
      "outputs": [],
      "source": [
        "#reading the required dataset\n",
        "\n",
        "train_data = pd.read_csv('Train.csv')\n",
        "test_data = pd.read_csv('Test.csv')\n",
        "submission = pd.read_csv('SampleSubmission.csv')"
      ]
    },
    {
      "cell_type": "code",
      "execution_count": 7,
      "metadata": {
        "colab": {
          "base_uri": "https://localhost:8080/",
          "height": 508
        },
        "id": "xLGumWGKMVH6",
        "outputId": "e79c3468-47d3-4518-c886-9c2b44f789a5"
      },
      "outputs": [
        {
          "output_type": "execute_result",
          "data": {
            "text/plain": [
              "          ID         country age_group        travel_with  total_female  \\\n",
              "0     tour_0      SWIZERLAND     45-64  Friends/Relatives           1.0   \n",
              "1    tour_10  UNITED KINGDOM     25-44                NaN           1.0   \n",
              "2  tour_1000  UNITED KINGDOM     25-44              Alone           0.0   \n",
              "3  tour_1002  UNITED KINGDOM     25-44             Spouse           1.0   \n",
              "4  tour_1004           CHINA      1-24                NaN           1.0   \n",
              "\n",
              "   total_male                         purpose     main_activity  \\\n",
              "0         1.0            Leisure and Holidays  Wildlife tourism   \n",
              "1         0.0            Leisure and Holidays  Cultural tourism   \n",
              "2         1.0  Visiting Friends and Relatives  Cultural tourism   \n",
              "3         1.0            Leisure and Holidays  Wildlife tourism   \n",
              "4         0.0            Leisure and Holidays  Wildlife tourism   \n",
              "\n",
              "                    info_source tour_arrangement  ... package_transport_tz  \\\n",
              "0            Friends, relatives      Independent  ...                   No   \n",
              "1                        others      Independent  ...                   No   \n",
              "2            Friends, relatives      Independent  ...                   No   \n",
              "3  Travel, agent, tour operator     Package Tour  ...                  Yes   \n",
              "4  Travel, agent, tour operator      Independent  ...                   No   \n",
              "\n",
              "  package_sightseeing package_guided_tour package_insurance night_mainland  \\\n",
              "0                  No                  No                No           13.0   \n",
              "1                  No                  No                No           14.0   \n",
              "2                  No                  No                No            1.0   \n",
              "3                 Yes                 Yes                No           11.0   \n",
              "4                  No                  No                No            7.0   \n",
              "\n",
              "  night_zanzibar payment_mode  first_trip_tz  \\\n",
              "0            0.0         Cash             No   \n",
              "1            7.0         Cash            Yes   \n",
              "2           31.0         Cash             No   \n",
              "3            0.0         Cash            Yes   \n",
              "4            4.0         Cash            Yes   \n",
              "\n",
              "                        most_impressing total_cost  \n",
              "0                       Friendly People   674602.5  \n",
              "1  Wonderful Country, Landscape, Nature  3214906.5  \n",
              "2                  Excellent Experience  3315000.0  \n",
              "3                       Friendly People  7790250.0  \n",
              "4                           No comments  1657500.0  \n",
              "\n",
              "[5 rows x 23 columns]"
            ],
            "text/html": [
              "\n",
              "  <div id=\"df-aa74b955-1947-44a4-bae8-ab664fd65bd5\">\n",
              "    <div class=\"colab-df-container\">\n",
              "      <div>\n",
              "<style scoped>\n",
              "    .dataframe tbody tr th:only-of-type {\n",
              "        vertical-align: middle;\n",
              "    }\n",
              "\n",
              "    .dataframe tbody tr th {\n",
              "        vertical-align: top;\n",
              "    }\n",
              "\n",
              "    .dataframe thead th {\n",
              "        text-align: right;\n",
              "    }\n",
              "</style>\n",
              "<table border=\"1\" class=\"dataframe\">\n",
              "  <thead>\n",
              "    <tr style=\"text-align: right;\">\n",
              "      <th></th>\n",
              "      <th>ID</th>\n",
              "      <th>country</th>\n",
              "      <th>age_group</th>\n",
              "      <th>travel_with</th>\n",
              "      <th>total_female</th>\n",
              "      <th>total_male</th>\n",
              "      <th>purpose</th>\n",
              "      <th>main_activity</th>\n",
              "      <th>info_source</th>\n",
              "      <th>tour_arrangement</th>\n",
              "      <th>...</th>\n",
              "      <th>package_transport_tz</th>\n",
              "      <th>package_sightseeing</th>\n",
              "      <th>package_guided_tour</th>\n",
              "      <th>package_insurance</th>\n",
              "      <th>night_mainland</th>\n",
              "      <th>night_zanzibar</th>\n",
              "      <th>payment_mode</th>\n",
              "      <th>first_trip_tz</th>\n",
              "      <th>most_impressing</th>\n",
              "      <th>total_cost</th>\n",
              "    </tr>\n",
              "  </thead>\n",
              "  <tbody>\n",
              "    <tr>\n",
              "      <th>0</th>\n",
              "      <td>tour_0</td>\n",
              "      <td>SWIZERLAND</td>\n",
              "      <td>45-64</td>\n",
              "      <td>Friends/Relatives</td>\n",
              "      <td>1.0</td>\n",
              "      <td>1.0</td>\n",
              "      <td>Leisure and Holidays</td>\n",
              "      <td>Wildlife tourism</td>\n",
              "      <td>Friends, relatives</td>\n",
              "      <td>Independent</td>\n",
              "      <td>...</td>\n",
              "      <td>No</td>\n",
              "      <td>No</td>\n",
              "      <td>No</td>\n",
              "      <td>No</td>\n",
              "      <td>13.0</td>\n",
              "      <td>0.0</td>\n",
              "      <td>Cash</td>\n",
              "      <td>No</td>\n",
              "      <td>Friendly People</td>\n",
              "      <td>674602.5</td>\n",
              "    </tr>\n",
              "    <tr>\n",
              "      <th>1</th>\n",
              "      <td>tour_10</td>\n",
              "      <td>UNITED KINGDOM</td>\n",
              "      <td>25-44</td>\n",
              "      <td>NaN</td>\n",
              "      <td>1.0</td>\n",
              "      <td>0.0</td>\n",
              "      <td>Leisure and Holidays</td>\n",
              "      <td>Cultural tourism</td>\n",
              "      <td>others</td>\n",
              "      <td>Independent</td>\n",
              "      <td>...</td>\n",
              "      <td>No</td>\n",
              "      <td>No</td>\n",
              "      <td>No</td>\n",
              "      <td>No</td>\n",
              "      <td>14.0</td>\n",
              "      <td>7.0</td>\n",
              "      <td>Cash</td>\n",
              "      <td>Yes</td>\n",
              "      <td>Wonderful Country, Landscape, Nature</td>\n",
              "      <td>3214906.5</td>\n",
              "    </tr>\n",
              "    <tr>\n",
              "      <th>2</th>\n",
              "      <td>tour_1000</td>\n",
              "      <td>UNITED KINGDOM</td>\n",
              "      <td>25-44</td>\n",
              "      <td>Alone</td>\n",
              "      <td>0.0</td>\n",
              "      <td>1.0</td>\n",
              "      <td>Visiting Friends and Relatives</td>\n",
              "      <td>Cultural tourism</td>\n",
              "      <td>Friends, relatives</td>\n",
              "      <td>Independent</td>\n",
              "      <td>...</td>\n",
              "      <td>No</td>\n",
              "      <td>No</td>\n",
              "      <td>No</td>\n",
              "      <td>No</td>\n",
              "      <td>1.0</td>\n",
              "      <td>31.0</td>\n",
              "      <td>Cash</td>\n",
              "      <td>No</td>\n",
              "      <td>Excellent Experience</td>\n",
              "      <td>3315000.0</td>\n",
              "    </tr>\n",
              "    <tr>\n",
              "      <th>3</th>\n",
              "      <td>tour_1002</td>\n",
              "      <td>UNITED KINGDOM</td>\n",
              "      <td>25-44</td>\n",
              "      <td>Spouse</td>\n",
              "      <td>1.0</td>\n",
              "      <td>1.0</td>\n",
              "      <td>Leisure and Holidays</td>\n",
              "      <td>Wildlife tourism</td>\n",
              "      <td>Travel, agent, tour operator</td>\n",
              "      <td>Package Tour</td>\n",
              "      <td>...</td>\n",
              "      <td>Yes</td>\n",
              "      <td>Yes</td>\n",
              "      <td>Yes</td>\n",
              "      <td>No</td>\n",
              "      <td>11.0</td>\n",
              "      <td>0.0</td>\n",
              "      <td>Cash</td>\n",
              "      <td>Yes</td>\n",
              "      <td>Friendly People</td>\n",
              "      <td>7790250.0</td>\n",
              "    </tr>\n",
              "    <tr>\n",
              "      <th>4</th>\n",
              "      <td>tour_1004</td>\n",
              "      <td>CHINA</td>\n",
              "      <td>1-24</td>\n",
              "      <td>NaN</td>\n",
              "      <td>1.0</td>\n",
              "      <td>0.0</td>\n",
              "      <td>Leisure and Holidays</td>\n",
              "      <td>Wildlife tourism</td>\n",
              "      <td>Travel, agent, tour operator</td>\n",
              "      <td>Independent</td>\n",
              "      <td>...</td>\n",
              "      <td>No</td>\n",
              "      <td>No</td>\n",
              "      <td>No</td>\n",
              "      <td>No</td>\n",
              "      <td>7.0</td>\n",
              "      <td>4.0</td>\n",
              "      <td>Cash</td>\n",
              "      <td>Yes</td>\n",
              "      <td>No comments</td>\n",
              "      <td>1657500.0</td>\n",
              "    </tr>\n",
              "  </tbody>\n",
              "</table>\n",
              "<p>5 rows × 23 columns</p>\n",
              "</div>\n",
              "      <button class=\"colab-df-convert\" onclick=\"convertToInteractive('df-aa74b955-1947-44a4-bae8-ab664fd65bd5')\"\n",
              "              title=\"Convert this dataframe to an interactive table.\"\n",
              "              style=\"display:none;\">\n",
              "        \n",
              "  <svg xmlns=\"http://www.w3.org/2000/svg\" height=\"24px\"viewBox=\"0 0 24 24\"\n",
              "       width=\"24px\">\n",
              "    <path d=\"M0 0h24v24H0V0z\" fill=\"none\"/>\n",
              "    <path d=\"M18.56 5.44l.94 2.06.94-2.06 2.06-.94-2.06-.94-.94-2.06-.94 2.06-2.06.94zm-11 1L8.5 8.5l.94-2.06 2.06-.94-2.06-.94L8.5 2.5l-.94 2.06-2.06.94zm10 10l.94 2.06.94-2.06 2.06-.94-2.06-.94-.94-2.06-.94 2.06-2.06.94z\"/><path d=\"M17.41 7.96l-1.37-1.37c-.4-.4-.92-.59-1.43-.59-.52 0-1.04.2-1.43.59L10.3 9.45l-7.72 7.72c-.78.78-.78 2.05 0 2.83L4 21.41c.39.39.9.59 1.41.59.51 0 1.02-.2 1.41-.59l7.78-7.78 2.81-2.81c.8-.78.8-2.07 0-2.86zM5.41 20L4 18.59l7.72-7.72 1.47 1.35L5.41 20z\"/>\n",
              "  </svg>\n",
              "      </button>\n",
              "      \n",
              "  <style>\n",
              "    .colab-df-container {\n",
              "      display:flex;\n",
              "      flex-wrap:wrap;\n",
              "      gap: 12px;\n",
              "    }\n",
              "\n",
              "    .colab-df-convert {\n",
              "      background-color: #E8F0FE;\n",
              "      border: none;\n",
              "      border-radius: 50%;\n",
              "      cursor: pointer;\n",
              "      display: none;\n",
              "      fill: #1967D2;\n",
              "      height: 32px;\n",
              "      padding: 0 0 0 0;\n",
              "      width: 32px;\n",
              "    }\n",
              "\n",
              "    .colab-df-convert:hover {\n",
              "      background-color: #E2EBFA;\n",
              "      box-shadow: 0px 1px 2px rgba(60, 64, 67, 0.3), 0px 1px 3px 1px rgba(60, 64, 67, 0.15);\n",
              "      fill: #174EA6;\n",
              "    }\n",
              "\n",
              "    [theme=dark] .colab-df-convert {\n",
              "      background-color: #3B4455;\n",
              "      fill: #D2E3FC;\n",
              "    }\n",
              "\n",
              "    [theme=dark] .colab-df-convert:hover {\n",
              "      background-color: #434B5C;\n",
              "      box-shadow: 0px 1px 3px 1px rgba(0, 0, 0, 0.15);\n",
              "      filter: drop-shadow(0px 1px 2px rgba(0, 0, 0, 0.3));\n",
              "      fill: #FFFFFF;\n",
              "    }\n",
              "  </style>\n",
              "\n",
              "      <script>\n",
              "        const buttonEl =\n",
              "          document.querySelector('#df-aa74b955-1947-44a4-bae8-ab664fd65bd5 button.colab-df-convert');\n",
              "        buttonEl.style.display =\n",
              "          google.colab.kernel.accessAllowed ? 'block' : 'none';\n",
              "\n",
              "        async function convertToInteractive(key) {\n",
              "          const element = document.querySelector('#df-aa74b955-1947-44a4-bae8-ab664fd65bd5');\n",
              "          const dataTable =\n",
              "            await google.colab.kernel.invokeFunction('convertToInteractive',\n",
              "                                                     [key], {});\n",
              "          if (!dataTable) return;\n",
              "\n",
              "          const docLinkHtml = 'Like what you see? Visit the ' +\n",
              "            '<a target=\"_blank\" href=https://colab.research.google.com/notebooks/data_table.ipynb>data table notebook</a>'\n",
              "            + ' to learn more about interactive tables.';\n",
              "          element.innerHTML = '';\n",
              "          dataTable['output_type'] = 'display_data';\n",
              "          await google.colab.output.renderOutput(dataTable, element);\n",
              "          const docLink = document.createElement('div');\n",
              "          docLink.innerHTML = docLinkHtml;\n",
              "          element.appendChild(docLink);\n",
              "        }\n",
              "      </script>\n",
              "    </div>\n",
              "  </div>\n",
              "  "
            ]
          },
          "metadata": {},
          "execution_count": 7
        }
      ],
      "source": [
        "#checking the first five rows of the training data\n",
        "\n",
        "train_data.head()"
      ]
    },
    {
      "cell_type": "code",
      "execution_count": 8,
      "metadata": {
        "colab": {
          "base_uri": "https://localhost:8080/",
          "height": 490
        },
        "id": "Cpxudh_PMVH_",
        "outputId": "76a14127-cf72-4d4a-efc6-07ef75bd810c"
      },
      "outputs": [
        {
          "output_type": "execute_result",
          "data": {
            "text/plain": [
              "          ID         country age_group        travel_with  total_female  \\\n",
              "0     tour_1       AUSTRALIA     45-64             Spouse           1.0   \n",
              "1   tour_100    SOUTH AFRICA     25-44  Friends/Relatives           0.0   \n",
              "2  tour_1001         GERMANY     25-44  Friends/Relatives           3.0   \n",
              "3  tour_1006          CANADA    24-Jan  Friends/Relatives           2.0   \n",
              "4  tour_1009  UNITED KINGDOM     45-64  Friends/Relatives           2.0   \n",
              "\n",
              "   total_male               purpose     main_activity  \\\n",
              "0         1.0  Leisure and Holidays  Wildlife tourism   \n",
              "1         4.0              Business  Wildlife tourism   \n",
              "2         0.0  Leisure and Holidays     Beach tourism   \n",
              "3         0.0  Leisure and Holidays  Cultural tourism   \n",
              "4         2.0  Leisure and Holidays  Wildlife tourism   \n",
              "\n",
              "                    info_source tour_arrangement  ... package_food  \\\n",
              "0  Travel, agent, tour operator     Package Tour  ...          Yes   \n",
              "1       Tanzania Mission Abroad     Package Tour  ...           No   \n",
              "2            Friends, relatives      Independent  ...           No   \n",
              "3                        others      Independent  ...           No   \n",
              "4            Friends, relatives     Package Tour  ...          Yes   \n",
              "\n",
              "  package_transport_tz package_sightseeing package_guided_tour  \\\n",
              "0                  Yes                 Yes                 Yes   \n",
              "1                   No                  No                  No   \n",
              "2                   No                  No                  No   \n",
              "3                   No                  No                  No   \n",
              "4                  Yes                  No                  No   \n",
              "\n",
              "  package_insurance night_mainland night_zanzibar  payment_mode  \\\n",
              "0               Yes             10              3          Cash   \n",
              "1                No             13              0          Cash   \n",
              "2                No              7             14          Cash   \n",
              "3                No              0              4          Cash   \n",
              "4                No             10              0          Cash   \n",
              "\n",
              "   first_trip_tz                       most_impressing  \n",
              "0            Yes                              Wildlife  \n",
              "1             No  Wonderful Country, Landscape, Nature  \n",
              "2             No                           No comments  \n",
              "3            Yes                       Friendly People  \n",
              "4            Yes                       Friendly People  \n",
              "\n",
              "[5 rows x 22 columns]"
            ],
            "text/html": [
              "\n",
              "  <div id=\"df-8439dcf3-9022-4d9e-b20c-5a11b34a87be\">\n",
              "    <div class=\"colab-df-container\">\n",
              "      <div>\n",
              "<style scoped>\n",
              "    .dataframe tbody tr th:only-of-type {\n",
              "        vertical-align: middle;\n",
              "    }\n",
              "\n",
              "    .dataframe tbody tr th {\n",
              "        vertical-align: top;\n",
              "    }\n",
              "\n",
              "    .dataframe thead th {\n",
              "        text-align: right;\n",
              "    }\n",
              "</style>\n",
              "<table border=\"1\" class=\"dataframe\">\n",
              "  <thead>\n",
              "    <tr style=\"text-align: right;\">\n",
              "      <th></th>\n",
              "      <th>ID</th>\n",
              "      <th>country</th>\n",
              "      <th>age_group</th>\n",
              "      <th>travel_with</th>\n",
              "      <th>total_female</th>\n",
              "      <th>total_male</th>\n",
              "      <th>purpose</th>\n",
              "      <th>main_activity</th>\n",
              "      <th>info_source</th>\n",
              "      <th>tour_arrangement</th>\n",
              "      <th>...</th>\n",
              "      <th>package_food</th>\n",
              "      <th>package_transport_tz</th>\n",
              "      <th>package_sightseeing</th>\n",
              "      <th>package_guided_tour</th>\n",
              "      <th>package_insurance</th>\n",
              "      <th>night_mainland</th>\n",
              "      <th>night_zanzibar</th>\n",
              "      <th>payment_mode</th>\n",
              "      <th>first_trip_tz</th>\n",
              "      <th>most_impressing</th>\n",
              "    </tr>\n",
              "  </thead>\n",
              "  <tbody>\n",
              "    <tr>\n",
              "      <th>0</th>\n",
              "      <td>tour_1</td>\n",
              "      <td>AUSTRALIA</td>\n",
              "      <td>45-64</td>\n",
              "      <td>Spouse</td>\n",
              "      <td>1.0</td>\n",
              "      <td>1.0</td>\n",
              "      <td>Leisure and Holidays</td>\n",
              "      <td>Wildlife tourism</td>\n",
              "      <td>Travel, agent, tour operator</td>\n",
              "      <td>Package Tour</td>\n",
              "      <td>...</td>\n",
              "      <td>Yes</td>\n",
              "      <td>Yes</td>\n",
              "      <td>Yes</td>\n",
              "      <td>Yes</td>\n",
              "      <td>Yes</td>\n",
              "      <td>10</td>\n",
              "      <td>3</td>\n",
              "      <td>Cash</td>\n",
              "      <td>Yes</td>\n",
              "      <td>Wildlife</td>\n",
              "    </tr>\n",
              "    <tr>\n",
              "      <th>1</th>\n",
              "      <td>tour_100</td>\n",
              "      <td>SOUTH AFRICA</td>\n",
              "      <td>25-44</td>\n",
              "      <td>Friends/Relatives</td>\n",
              "      <td>0.0</td>\n",
              "      <td>4.0</td>\n",
              "      <td>Business</td>\n",
              "      <td>Wildlife tourism</td>\n",
              "      <td>Tanzania Mission Abroad</td>\n",
              "      <td>Package Tour</td>\n",
              "      <td>...</td>\n",
              "      <td>No</td>\n",
              "      <td>No</td>\n",
              "      <td>No</td>\n",
              "      <td>No</td>\n",
              "      <td>No</td>\n",
              "      <td>13</td>\n",
              "      <td>0</td>\n",
              "      <td>Cash</td>\n",
              "      <td>No</td>\n",
              "      <td>Wonderful Country, Landscape, Nature</td>\n",
              "    </tr>\n",
              "    <tr>\n",
              "      <th>2</th>\n",
              "      <td>tour_1001</td>\n",
              "      <td>GERMANY</td>\n",
              "      <td>25-44</td>\n",
              "      <td>Friends/Relatives</td>\n",
              "      <td>3.0</td>\n",
              "      <td>0.0</td>\n",
              "      <td>Leisure and Holidays</td>\n",
              "      <td>Beach tourism</td>\n",
              "      <td>Friends, relatives</td>\n",
              "      <td>Independent</td>\n",
              "      <td>...</td>\n",
              "      <td>No</td>\n",
              "      <td>No</td>\n",
              "      <td>No</td>\n",
              "      <td>No</td>\n",
              "      <td>No</td>\n",
              "      <td>7</td>\n",
              "      <td>14</td>\n",
              "      <td>Cash</td>\n",
              "      <td>No</td>\n",
              "      <td>No comments</td>\n",
              "    </tr>\n",
              "    <tr>\n",
              "      <th>3</th>\n",
              "      <td>tour_1006</td>\n",
              "      <td>CANADA</td>\n",
              "      <td>24-Jan</td>\n",
              "      <td>Friends/Relatives</td>\n",
              "      <td>2.0</td>\n",
              "      <td>0.0</td>\n",
              "      <td>Leisure and Holidays</td>\n",
              "      <td>Cultural tourism</td>\n",
              "      <td>others</td>\n",
              "      <td>Independent</td>\n",
              "      <td>...</td>\n",
              "      <td>No</td>\n",
              "      <td>No</td>\n",
              "      <td>No</td>\n",
              "      <td>No</td>\n",
              "      <td>No</td>\n",
              "      <td>0</td>\n",
              "      <td>4</td>\n",
              "      <td>Cash</td>\n",
              "      <td>Yes</td>\n",
              "      <td>Friendly People</td>\n",
              "    </tr>\n",
              "    <tr>\n",
              "      <th>4</th>\n",
              "      <td>tour_1009</td>\n",
              "      <td>UNITED KINGDOM</td>\n",
              "      <td>45-64</td>\n",
              "      <td>Friends/Relatives</td>\n",
              "      <td>2.0</td>\n",
              "      <td>2.0</td>\n",
              "      <td>Leisure and Holidays</td>\n",
              "      <td>Wildlife tourism</td>\n",
              "      <td>Friends, relatives</td>\n",
              "      <td>Package Tour</td>\n",
              "      <td>...</td>\n",
              "      <td>Yes</td>\n",
              "      <td>Yes</td>\n",
              "      <td>No</td>\n",
              "      <td>No</td>\n",
              "      <td>No</td>\n",
              "      <td>10</td>\n",
              "      <td>0</td>\n",
              "      <td>Cash</td>\n",
              "      <td>Yes</td>\n",
              "      <td>Friendly People</td>\n",
              "    </tr>\n",
              "  </tbody>\n",
              "</table>\n",
              "<p>5 rows × 22 columns</p>\n",
              "</div>\n",
              "      <button class=\"colab-df-convert\" onclick=\"convertToInteractive('df-8439dcf3-9022-4d9e-b20c-5a11b34a87be')\"\n",
              "              title=\"Convert this dataframe to an interactive table.\"\n",
              "              style=\"display:none;\">\n",
              "        \n",
              "  <svg xmlns=\"http://www.w3.org/2000/svg\" height=\"24px\"viewBox=\"0 0 24 24\"\n",
              "       width=\"24px\">\n",
              "    <path d=\"M0 0h24v24H0V0z\" fill=\"none\"/>\n",
              "    <path d=\"M18.56 5.44l.94 2.06.94-2.06 2.06-.94-2.06-.94-.94-2.06-.94 2.06-2.06.94zm-11 1L8.5 8.5l.94-2.06 2.06-.94-2.06-.94L8.5 2.5l-.94 2.06-2.06.94zm10 10l.94 2.06.94-2.06 2.06-.94-2.06-.94-.94-2.06-.94 2.06-2.06.94z\"/><path d=\"M17.41 7.96l-1.37-1.37c-.4-.4-.92-.59-1.43-.59-.52 0-1.04.2-1.43.59L10.3 9.45l-7.72 7.72c-.78.78-.78 2.05 0 2.83L4 21.41c.39.39.9.59 1.41.59.51 0 1.02-.2 1.41-.59l7.78-7.78 2.81-2.81c.8-.78.8-2.07 0-2.86zM5.41 20L4 18.59l7.72-7.72 1.47 1.35L5.41 20z\"/>\n",
              "  </svg>\n",
              "      </button>\n",
              "      \n",
              "  <style>\n",
              "    .colab-df-container {\n",
              "      display:flex;\n",
              "      flex-wrap:wrap;\n",
              "      gap: 12px;\n",
              "    }\n",
              "\n",
              "    .colab-df-convert {\n",
              "      background-color: #E8F0FE;\n",
              "      border: none;\n",
              "      border-radius: 50%;\n",
              "      cursor: pointer;\n",
              "      display: none;\n",
              "      fill: #1967D2;\n",
              "      height: 32px;\n",
              "      padding: 0 0 0 0;\n",
              "      width: 32px;\n",
              "    }\n",
              "\n",
              "    .colab-df-convert:hover {\n",
              "      background-color: #E2EBFA;\n",
              "      box-shadow: 0px 1px 2px rgba(60, 64, 67, 0.3), 0px 1px 3px 1px rgba(60, 64, 67, 0.15);\n",
              "      fill: #174EA6;\n",
              "    }\n",
              "\n",
              "    [theme=dark] .colab-df-convert {\n",
              "      background-color: #3B4455;\n",
              "      fill: #D2E3FC;\n",
              "    }\n",
              "\n",
              "    [theme=dark] .colab-df-convert:hover {\n",
              "      background-color: #434B5C;\n",
              "      box-shadow: 0px 1px 3px 1px rgba(0, 0, 0, 0.15);\n",
              "      filter: drop-shadow(0px 1px 2px rgba(0, 0, 0, 0.3));\n",
              "      fill: #FFFFFF;\n",
              "    }\n",
              "  </style>\n",
              "\n",
              "      <script>\n",
              "        const buttonEl =\n",
              "          document.querySelector('#df-8439dcf3-9022-4d9e-b20c-5a11b34a87be button.colab-df-convert');\n",
              "        buttonEl.style.display =\n",
              "          google.colab.kernel.accessAllowed ? 'block' : 'none';\n",
              "\n",
              "        async function convertToInteractive(key) {\n",
              "          const element = document.querySelector('#df-8439dcf3-9022-4d9e-b20c-5a11b34a87be');\n",
              "          const dataTable =\n",
              "            await google.colab.kernel.invokeFunction('convertToInteractive',\n",
              "                                                     [key], {});\n",
              "          if (!dataTable) return;\n",
              "\n",
              "          const docLinkHtml = 'Like what you see? Visit the ' +\n",
              "            '<a target=\"_blank\" href=https://colab.research.google.com/notebooks/data_table.ipynb>data table notebook</a>'\n",
              "            + ' to learn more about interactive tables.';\n",
              "          element.innerHTML = '';\n",
              "          dataTable['output_type'] = 'display_data';\n",
              "          await google.colab.output.renderOutput(dataTable, element);\n",
              "          const docLink = document.createElement('div');\n",
              "          docLink.innerHTML = docLinkHtml;\n",
              "          element.appendChild(docLink);\n",
              "        }\n",
              "      </script>\n",
              "    </div>\n",
              "  </div>\n",
              "  "
            ]
          },
          "metadata": {},
          "execution_count": 8
        }
      ],
      "source": [
        "#checking the first five rows of the testing data\n",
        "\n",
        "test_data.head()"
      ]
    },
    {
      "cell_type": "code",
      "execution_count": 9,
      "metadata": {
        "colab": {
          "base_uri": "https://localhost:8080/"
        },
        "id": "H9ZVQNyIMVIB",
        "outputId": "a1b5c22c-b29f-42dd-baa2-d133c1c64888"
      },
      "outputs": [
        {
          "output_type": "execute_result",
          "data": {
            "text/plain": [
              "Index(['ID', 'country', 'age_group', 'travel_with', 'total_female',\n",
              "       'total_male', 'purpose', 'main_activity', 'info_source',\n",
              "       'tour_arrangement', 'package_transport_int', 'package_accomodation',\n",
              "       'package_food', 'package_transport_tz', 'package_sightseeing',\n",
              "       'package_guided_tour', 'package_insurance', 'night_mainland',\n",
              "       'night_zanzibar', 'payment_mode', 'first_trip_tz', 'most_impressing',\n",
              "       'total_cost'],\n",
              "      dtype='object')"
            ]
          },
          "metadata": {},
          "execution_count": 9
        }
      ],
      "source": [
        "#checking the columns in the training dataset\n",
        "\n",
        "train_data.columns"
      ]
    },
    {
      "cell_type": "code",
      "execution_count": 10,
      "metadata": {
        "colab": {
          "base_uri": "https://localhost:8080/"
        },
        "id": "YHCqFWOqMVIE",
        "outputId": "3586ce35-5a1f-471c-dfda-c263a73cc4cc"
      },
      "outputs": [
        {
          "output_type": "execute_result",
          "data": {
            "text/plain": [
              "array(['45-64', '25-44', '1-24', '65+'], dtype=object)"
            ]
          },
          "metadata": {},
          "execution_count": 10
        }
      ],
      "source": [
        "train_data['age_group'].unique()"
      ]
    },
    {
      "cell_type": "code",
      "execution_count": 11,
      "metadata": {
        "colab": {
          "base_uri": "https://localhost:8080/"
        },
        "id": "e8Y1Fw7DMVIG",
        "outputId": "04957523-8520-4084-fb36-aeb3fab78e9e"
      },
      "outputs": [
        {
          "output_type": "execute_result",
          "data": {
            "text/plain": [
              "array(['45-64', '25-44', '24-Jan', '65+'], dtype=object)"
            ]
          },
          "metadata": {},
          "execution_count": 11
        }
      ],
      "source": [
        "test_data['age_group'].unique()"
      ]
    },
    {
      "cell_type": "code",
      "execution_count": 12,
      "metadata": {
        "colab": {
          "base_uri": "https://localhost:8080/"
        },
        "id": "qfqFguyNMVIK",
        "outputId": "86b1f432-d2e0-49a8-a5c4-c1fa3e42169f"
      },
      "outputs": [
        {
          "output_type": "execute_result",
          "data": {
            "text/plain": [
              "25-44     866\n",
              "45-64     447\n",
              "24-Jan    202\n",
              "65+        86\n",
              "Name: age_group, dtype: int64"
            ]
          },
          "metadata": {},
          "execution_count": 12
        }
      ],
      "source": [
        "test_data['age_group'].value_counts()"
      ]
    },
    {
      "cell_type": "code",
      "execution_count": 13,
      "metadata": {
        "colab": {
          "base_uri": "https://localhost:8080/"
        },
        "id": "u8p3srk2MVIR",
        "outputId": "d943065a-b091-4c1c-f6cf-e52e221afb16"
      },
      "outputs": [
        {
          "output_type": "execute_result",
          "data": {
            "text/plain": [
              "Index(['ID', 'country', 'age_group', 'travel_with', 'total_female',\n",
              "       'total_male', 'purpose', 'main_activity', 'info_source',\n",
              "       'tour_arrangement', 'package_transport_int', 'package_accomodation',\n",
              "       'package_food', 'package_transport_tz', 'package_sightseeing',\n",
              "       'package_guided_tour', 'package_insurance', 'night_mainland',\n",
              "       'night_zanzibar', 'payment_mode', 'first_trip_tz', 'most_impressing'],\n",
              "      dtype='object')"
            ]
          },
          "metadata": {},
          "execution_count": 13
        }
      ],
      "source": [
        "#checking the columns in the testing dataset\n",
        "\n",
        "test_data.columns"
      ]
    },
    {
      "cell_type": "code",
      "execution_count": 13,
      "metadata": {
        "id": "p3WM286NMVIW"
      },
      "outputs": [],
      "source": [
        ""
      ]
    },
    {
      "cell_type": "code",
      "execution_count": 14,
      "metadata": {
        "colab": {
          "base_uri": "https://localhost:8080/"
        },
        "id": "N79CK92HMVIY",
        "outputId": "80c60f63-5e36-4c6c-a4da-01ffffd14250"
      },
      "outputs": [
        {
          "output_type": "stream",
          "name": "stdout",
          "text": [
            "<class 'pandas.core.frame.DataFrame'>\n",
            "RangeIndex: 4809 entries, 0 to 4808\n",
            "Data columns (total 23 columns):\n",
            " #   Column                 Non-Null Count  Dtype  \n",
            "---  ------                 --------------  -----  \n",
            " 0   ID                     4809 non-null   object \n",
            " 1   country                4809 non-null   object \n",
            " 2   age_group              4809 non-null   object \n",
            " 3   travel_with            3695 non-null   object \n",
            " 4   total_female           4806 non-null   float64\n",
            " 5   total_male             4804 non-null   float64\n",
            " 6   purpose                4809 non-null   object \n",
            " 7   main_activity          4809 non-null   object \n",
            " 8   info_source            4809 non-null   object \n",
            " 9   tour_arrangement       4809 non-null   object \n",
            " 10  package_transport_int  4809 non-null   object \n",
            " 11  package_accomodation   4809 non-null   object \n",
            " 12  package_food           4809 non-null   object \n",
            " 13  package_transport_tz   4809 non-null   object \n",
            " 14  package_sightseeing    4809 non-null   object \n",
            " 15  package_guided_tour    4809 non-null   object \n",
            " 16  package_insurance      4809 non-null   object \n",
            " 17  night_mainland         4809 non-null   float64\n",
            " 18  night_zanzibar         4809 non-null   float64\n",
            " 19  payment_mode           4809 non-null   object \n",
            " 20  first_trip_tz          4809 non-null   object \n",
            " 21  most_impressing        4496 non-null   object \n",
            " 22  total_cost             4809 non-null   float64\n",
            "dtypes: float64(5), object(18)\n",
            "memory usage: 864.2+ KB\n"
          ]
        }
      ],
      "source": [
        "#checking the information of the training dataset\n",
        "\n",
        "train_data.info()"
      ]
    },
    {
      "cell_type": "code",
      "execution_count": 15,
      "metadata": {
        "colab": {
          "base_uri": "https://localhost:8080/"
        },
        "id": "4Yqb2hh9MVIa",
        "outputId": "919f4f6d-5b3a-49cf-e7ef-6425b5413601"
      },
      "outputs": [
        {
          "output_type": "stream",
          "name": "stdout",
          "text": [
            "<class 'pandas.core.frame.DataFrame'>\n",
            "RangeIndex: 1601 entries, 0 to 1600\n",
            "Data columns (total 22 columns):\n",
            " #   Column                 Non-Null Count  Dtype  \n",
            "---  ------                 --------------  -----  \n",
            " 0   ID                     1601 non-null   object \n",
            " 1   country                1601 non-null   object \n",
            " 2   age_group              1601 non-null   object \n",
            " 3   travel_with            1274 non-null   object \n",
            " 4   total_female           1600 non-null   float64\n",
            " 5   total_male             1599 non-null   float64\n",
            " 6   purpose                1601 non-null   object \n",
            " 7   main_activity          1601 non-null   object \n",
            " 8   info_source            1601 non-null   object \n",
            " 9   tour_arrangement       1601 non-null   object \n",
            " 10  package_transport_int  1601 non-null   object \n",
            " 11  package_accomodation   1601 non-null   object \n",
            " 12  package_food           1601 non-null   object \n",
            " 13  package_transport_tz   1601 non-null   object \n",
            " 14  package_sightseeing    1601 non-null   object \n",
            " 15  package_guided_tour    1601 non-null   object \n",
            " 16  package_insurance      1601 non-null   object \n",
            " 17  night_mainland         1601 non-null   int64  \n",
            " 18  night_zanzibar         1601 non-null   int64  \n",
            " 19  payment_mode           1601 non-null   object \n",
            " 20  first_trip_tz          1601 non-null   object \n",
            " 21  most_impressing        1490 non-null   object \n",
            "dtypes: float64(2), int64(2), object(18)\n",
            "memory usage: 275.3+ KB\n"
          ]
        }
      ],
      "source": [
        "#checking the information of the testing dataset\n",
        "\n",
        "test_data.info()"
      ]
    },
    {
      "cell_type": "code",
      "execution_count": 15,
      "metadata": {
        "id": "-LvlHecgMVId"
      },
      "outputs": [],
      "source": [
        ""
      ]
    },
    {
      "cell_type": "markdown",
      "metadata": {
        "id": "Dzvk2hbsMVIf"
      },
      "source": [
        "# EDA"
      ]
    },
    {
      "cell_type": "code",
      "execution_count": 16,
      "metadata": {
        "id": "YK_32rMuMVIh"
      },
      "outputs": [],
      "source": [
        "#replacing the nan values in the travel_with column of the training data with Alone\n",
        "\n",
        "train_data['travel_with'] = train_data['travel_with'].replace(np.nan, 'Alone')"
      ]
    },
    {
      "cell_type": "code",
      "execution_count": 17,
      "metadata": {
        "id": "lZqQOD8rMVIi"
      },
      "outputs": [],
      "source": [
        "#replacing the nan values in the total_female column of the training data with 1.0\n",
        "\n",
        "train_data['total_female'] = train_data['total_female'].replace(np.nan, 1.0)"
      ]
    },
    {
      "cell_type": "code",
      "execution_count": 18,
      "metadata": {
        "id": "B_Ez3B0CMVJM"
      },
      "outputs": [],
      "source": [
        "#replacing the nan values in the total_male column of the training data with 1.0\n",
        "\n",
        "train_data['total_male'] = train_data['total_male'].replace(np.nan, 1.0)"
      ]
    },
    {
      "cell_type": "code",
      "execution_count": 19,
      "metadata": {
        "id": "w5H2Hxw6MVJz"
      },
      "outputs": [],
      "source": [
        "#replacing the nan values in the most_impressing column of the training data with No comments\n",
        "\n",
        "train_data['most_impressing'] = train_data['most_impressing'].replace(np.nan, 'No comments')"
      ]
    },
    {
      "cell_type": "code",
      "execution_count": 20,
      "metadata": {
        "id": "hskdS3O6MVJ0"
      },
      "outputs": [],
      "source": [
        "#replacing the nan values in the travel_with column of the testing data with Alone\n",
        "\n",
        "test_data['travel_with'] = test_data['travel_with'].replace(np.nan, 'Alone')"
      ]
    },
    {
      "cell_type": "code",
      "execution_count": 21,
      "metadata": {
        "id": "cRiqklHXMVJ2"
      },
      "outputs": [],
      "source": [
        "#replacing the nan values in the total_female column of the testing data with 1.0\n",
        "\n",
        "test_data['total_female'] = test_data['total_female'].replace(np.nan, 1.0)"
      ]
    },
    {
      "cell_type": "code",
      "execution_count": 22,
      "metadata": {
        "id": "CUfvPauOMVJ5"
      },
      "outputs": [],
      "source": [
        "#replacing the nan values in the total_male column of the testing data with 1.0\n",
        "\n",
        "test_data['total_male'] = test_data['total_male'].replace(np.nan, 1.0)"
      ]
    },
    {
      "cell_type": "code",
      "execution_count": 23,
      "metadata": {
        "id": "CCvLg46mMVJ6"
      },
      "outputs": [],
      "source": [
        "#replacing the nan values in the most_impressing column of the testing data with No comments\n",
        "\n",
        "test_data['most_impressing'] = test_data['most_impressing'].replace(np.nan, 'No comments')"
      ]
    },
    {
      "cell_type": "code",
      "execution_count": 24,
      "metadata": {
        "id": "IGIjqc8IMVJ_"
      },
      "outputs": [],
      "source": [
        "#replacing 24-jan to 1-24 to correlate with \n",
        "\n",
        "test_data['age_group'] = test_data['age_group'].replace('24-Jan', '1-24')"
      ]
    },
    {
      "cell_type": "code",
      "execution_count": 24,
      "metadata": {
        "id": "x5qT2bh7MVKC"
      },
      "outputs": [],
      "source": [
        ""
      ]
    },
    {
      "cell_type": "code",
      "execution_count": 25,
      "metadata": {
        "id": "6sTffKpIMVKD"
      },
      "outputs": [],
      "source": [
        "from sklearn.compose import ColumnTransformer\n",
        "from sklearn.pipeline import Pipeline\n",
        "from sklearn.impute import SimpleImputer\n",
        "from sklearn.preprocessing import LabelEncoder\n",
        "from sklearn.model_selection import train_test_split, cross_val_score\n",
        "from sklearn.ensemble import RandomForestRegressor\n",
        "from sklearn.metrics import mean_absolute_error, mean_squared_error, r2_score\n",
        "from xgboost import XGBRegressor"
      ]
    },
    {
      "cell_type": "code",
      "execution_count": 26,
      "metadata": {
        "id": "xXRc4IL7MVKH"
      },
      "outputs": [],
      "source": [
        "train_data['train'] = 1\n",
        "test_data['train'] = 0"
      ]
    },
    {
      "cell_type": "code",
      "execution_count": 27,
      "metadata": {
        "id": "j7Ol5XTTMVKK"
      },
      "outputs": [],
      "source": [
        "full_data = pd.concat([train_data.drop(['ID', 'total_cost'], axis = 1),test_data.drop('ID', axis=1)]).reset_index (drop = True)"
      ]
    },
    {
      "cell_type": "code",
      "execution_count": 28,
      "metadata": {
        "colab": {
          "base_uri": "https://localhost:8080/",
          "height": 508
        },
        "id": "qM8Zs8I7MVKM",
        "outputId": "3f92c553-33c8-48a8-f3fa-2a30e4e5ce85"
      },
      "outputs": [
        {
          "output_type": "execute_result",
          "data": {
            "text/plain": [
              "          country age_group        travel_with  total_female  total_male  \\\n",
              "0      SWIZERLAND     45-64  Friends/Relatives           1.0         1.0   \n",
              "1  UNITED KINGDOM     25-44              Alone           1.0         0.0   \n",
              "2  UNITED KINGDOM     25-44              Alone           0.0         1.0   \n",
              "3  UNITED KINGDOM     25-44             Spouse           1.0         1.0   \n",
              "4           CHINA      1-24              Alone           1.0         0.0   \n",
              "\n",
              "                          purpose     main_activity  \\\n",
              "0            Leisure and Holidays  Wildlife tourism   \n",
              "1            Leisure and Holidays  Cultural tourism   \n",
              "2  Visiting Friends and Relatives  Cultural tourism   \n",
              "3            Leisure and Holidays  Wildlife tourism   \n",
              "4            Leisure and Holidays  Wildlife tourism   \n",
              "\n",
              "                    info_source tour_arrangement package_transport_int  ...  \\\n",
              "0            Friends, relatives      Independent                    No  ...   \n",
              "1                        others      Independent                    No  ...   \n",
              "2            Friends, relatives      Independent                    No  ...   \n",
              "3  Travel, agent, tour operator     Package Tour                    No  ...   \n",
              "4  Travel, agent, tour operator      Independent                    No  ...   \n",
              "\n",
              "  package_transport_tz package_sightseeing package_guided_tour  \\\n",
              "0                   No                  No                  No   \n",
              "1                   No                  No                  No   \n",
              "2                   No                  No                  No   \n",
              "3                  Yes                 Yes                 Yes   \n",
              "4                   No                  No                  No   \n",
              "\n",
              "  package_insurance night_mainland night_zanzibar  payment_mode  \\\n",
              "0                No           13.0            0.0          Cash   \n",
              "1                No           14.0            7.0          Cash   \n",
              "2                No            1.0           31.0          Cash   \n",
              "3                No           11.0            0.0          Cash   \n",
              "4                No            7.0            4.0          Cash   \n",
              "\n",
              "   first_trip_tz                       most_impressing train  \n",
              "0             No                       Friendly People     1  \n",
              "1            Yes  Wonderful Country, Landscape, Nature     1  \n",
              "2             No                  Excellent Experience     1  \n",
              "3            Yes                       Friendly People     1  \n",
              "4            Yes                           No comments     1  \n",
              "\n",
              "[5 rows x 22 columns]"
            ],
            "text/html": [
              "\n",
              "  <div id=\"df-9c97d06b-a2c2-4e52-b290-e745f34056c1\">\n",
              "    <div class=\"colab-df-container\">\n",
              "      <div>\n",
              "<style scoped>\n",
              "    .dataframe tbody tr th:only-of-type {\n",
              "        vertical-align: middle;\n",
              "    }\n",
              "\n",
              "    .dataframe tbody tr th {\n",
              "        vertical-align: top;\n",
              "    }\n",
              "\n",
              "    .dataframe thead th {\n",
              "        text-align: right;\n",
              "    }\n",
              "</style>\n",
              "<table border=\"1\" class=\"dataframe\">\n",
              "  <thead>\n",
              "    <tr style=\"text-align: right;\">\n",
              "      <th></th>\n",
              "      <th>country</th>\n",
              "      <th>age_group</th>\n",
              "      <th>travel_with</th>\n",
              "      <th>total_female</th>\n",
              "      <th>total_male</th>\n",
              "      <th>purpose</th>\n",
              "      <th>main_activity</th>\n",
              "      <th>info_source</th>\n",
              "      <th>tour_arrangement</th>\n",
              "      <th>package_transport_int</th>\n",
              "      <th>...</th>\n",
              "      <th>package_transport_tz</th>\n",
              "      <th>package_sightseeing</th>\n",
              "      <th>package_guided_tour</th>\n",
              "      <th>package_insurance</th>\n",
              "      <th>night_mainland</th>\n",
              "      <th>night_zanzibar</th>\n",
              "      <th>payment_mode</th>\n",
              "      <th>first_trip_tz</th>\n",
              "      <th>most_impressing</th>\n",
              "      <th>train</th>\n",
              "    </tr>\n",
              "  </thead>\n",
              "  <tbody>\n",
              "    <tr>\n",
              "      <th>0</th>\n",
              "      <td>SWIZERLAND</td>\n",
              "      <td>45-64</td>\n",
              "      <td>Friends/Relatives</td>\n",
              "      <td>1.0</td>\n",
              "      <td>1.0</td>\n",
              "      <td>Leisure and Holidays</td>\n",
              "      <td>Wildlife tourism</td>\n",
              "      <td>Friends, relatives</td>\n",
              "      <td>Independent</td>\n",
              "      <td>No</td>\n",
              "      <td>...</td>\n",
              "      <td>No</td>\n",
              "      <td>No</td>\n",
              "      <td>No</td>\n",
              "      <td>No</td>\n",
              "      <td>13.0</td>\n",
              "      <td>0.0</td>\n",
              "      <td>Cash</td>\n",
              "      <td>No</td>\n",
              "      <td>Friendly People</td>\n",
              "      <td>1</td>\n",
              "    </tr>\n",
              "    <tr>\n",
              "      <th>1</th>\n",
              "      <td>UNITED KINGDOM</td>\n",
              "      <td>25-44</td>\n",
              "      <td>Alone</td>\n",
              "      <td>1.0</td>\n",
              "      <td>0.0</td>\n",
              "      <td>Leisure and Holidays</td>\n",
              "      <td>Cultural tourism</td>\n",
              "      <td>others</td>\n",
              "      <td>Independent</td>\n",
              "      <td>No</td>\n",
              "      <td>...</td>\n",
              "      <td>No</td>\n",
              "      <td>No</td>\n",
              "      <td>No</td>\n",
              "      <td>No</td>\n",
              "      <td>14.0</td>\n",
              "      <td>7.0</td>\n",
              "      <td>Cash</td>\n",
              "      <td>Yes</td>\n",
              "      <td>Wonderful Country, Landscape, Nature</td>\n",
              "      <td>1</td>\n",
              "    </tr>\n",
              "    <tr>\n",
              "      <th>2</th>\n",
              "      <td>UNITED KINGDOM</td>\n",
              "      <td>25-44</td>\n",
              "      <td>Alone</td>\n",
              "      <td>0.0</td>\n",
              "      <td>1.0</td>\n",
              "      <td>Visiting Friends and Relatives</td>\n",
              "      <td>Cultural tourism</td>\n",
              "      <td>Friends, relatives</td>\n",
              "      <td>Independent</td>\n",
              "      <td>No</td>\n",
              "      <td>...</td>\n",
              "      <td>No</td>\n",
              "      <td>No</td>\n",
              "      <td>No</td>\n",
              "      <td>No</td>\n",
              "      <td>1.0</td>\n",
              "      <td>31.0</td>\n",
              "      <td>Cash</td>\n",
              "      <td>No</td>\n",
              "      <td>Excellent Experience</td>\n",
              "      <td>1</td>\n",
              "    </tr>\n",
              "    <tr>\n",
              "      <th>3</th>\n",
              "      <td>UNITED KINGDOM</td>\n",
              "      <td>25-44</td>\n",
              "      <td>Spouse</td>\n",
              "      <td>1.0</td>\n",
              "      <td>1.0</td>\n",
              "      <td>Leisure and Holidays</td>\n",
              "      <td>Wildlife tourism</td>\n",
              "      <td>Travel, agent, tour operator</td>\n",
              "      <td>Package Tour</td>\n",
              "      <td>No</td>\n",
              "      <td>...</td>\n",
              "      <td>Yes</td>\n",
              "      <td>Yes</td>\n",
              "      <td>Yes</td>\n",
              "      <td>No</td>\n",
              "      <td>11.0</td>\n",
              "      <td>0.0</td>\n",
              "      <td>Cash</td>\n",
              "      <td>Yes</td>\n",
              "      <td>Friendly People</td>\n",
              "      <td>1</td>\n",
              "    </tr>\n",
              "    <tr>\n",
              "      <th>4</th>\n",
              "      <td>CHINA</td>\n",
              "      <td>1-24</td>\n",
              "      <td>Alone</td>\n",
              "      <td>1.0</td>\n",
              "      <td>0.0</td>\n",
              "      <td>Leisure and Holidays</td>\n",
              "      <td>Wildlife tourism</td>\n",
              "      <td>Travel, agent, tour operator</td>\n",
              "      <td>Independent</td>\n",
              "      <td>No</td>\n",
              "      <td>...</td>\n",
              "      <td>No</td>\n",
              "      <td>No</td>\n",
              "      <td>No</td>\n",
              "      <td>No</td>\n",
              "      <td>7.0</td>\n",
              "      <td>4.0</td>\n",
              "      <td>Cash</td>\n",
              "      <td>Yes</td>\n",
              "      <td>No comments</td>\n",
              "      <td>1</td>\n",
              "    </tr>\n",
              "  </tbody>\n",
              "</table>\n",
              "<p>5 rows × 22 columns</p>\n",
              "</div>\n",
              "      <button class=\"colab-df-convert\" onclick=\"convertToInteractive('df-9c97d06b-a2c2-4e52-b290-e745f34056c1')\"\n",
              "              title=\"Convert this dataframe to an interactive table.\"\n",
              "              style=\"display:none;\">\n",
              "        \n",
              "  <svg xmlns=\"http://www.w3.org/2000/svg\" height=\"24px\"viewBox=\"0 0 24 24\"\n",
              "       width=\"24px\">\n",
              "    <path d=\"M0 0h24v24H0V0z\" fill=\"none\"/>\n",
              "    <path d=\"M18.56 5.44l.94 2.06.94-2.06 2.06-.94-2.06-.94-.94-2.06-.94 2.06-2.06.94zm-11 1L8.5 8.5l.94-2.06 2.06-.94-2.06-.94L8.5 2.5l-.94 2.06-2.06.94zm10 10l.94 2.06.94-2.06 2.06-.94-2.06-.94-.94-2.06-.94 2.06-2.06.94z\"/><path d=\"M17.41 7.96l-1.37-1.37c-.4-.4-.92-.59-1.43-.59-.52 0-1.04.2-1.43.59L10.3 9.45l-7.72 7.72c-.78.78-.78 2.05 0 2.83L4 21.41c.39.39.9.59 1.41.59.51 0 1.02-.2 1.41-.59l7.78-7.78 2.81-2.81c.8-.78.8-2.07 0-2.86zM5.41 20L4 18.59l7.72-7.72 1.47 1.35L5.41 20z\"/>\n",
              "  </svg>\n",
              "      </button>\n",
              "      \n",
              "  <style>\n",
              "    .colab-df-container {\n",
              "      display:flex;\n",
              "      flex-wrap:wrap;\n",
              "      gap: 12px;\n",
              "    }\n",
              "\n",
              "    .colab-df-convert {\n",
              "      background-color: #E8F0FE;\n",
              "      border: none;\n",
              "      border-radius: 50%;\n",
              "      cursor: pointer;\n",
              "      display: none;\n",
              "      fill: #1967D2;\n",
              "      height: 32px;\n",
              "      padding: 0 0 0 0;\n",
              "      width: 32px;\n",
              "    }\n",
              "\n",
              "    .colab-df-convert:hover {\n",
              "      background-color: #E2EBFA;\n",
              "      box-shadow: 0px 1px 2px rgba(60, 64, 67, 0.3), 0px 1px 3px 1px rgba(60, 64, 67, 0.15);\n",
              "      fill: #174EA6;\n",
              "    }\n",
              "\n",
              "    [theme=dark] .colab-df-convert {\n",
              "      background-color: #3B4455;\n",
              "      fill: #D2E3FC;\n",
              "    }\n",
              "\n",
              "    [theme=dark] .colab-df-convert:hover {\n",
              "      background-color: #434B5C;\n",
              "      box-shadow: 0px 1px 3px 1px rgba(0, 0, 0, 0.15);\n",
              "      filter: drop-shadow(0px 1px 2px rgba(0, 0, 0, 0.3));\n",
              "      fill: #FFFFFF;\n",
              "    }\n",
              "  </style>\n",
              "\n",
              "      <script>\n",
              "        const buttonEl =\n",
              "          document.querySelector('#df-9c97d06b-a2c2-4e52-b290-e745f34056c1 button.colab-df-convert');\n",
              "        buttonEl.style.display =\n",
              "          google.colab.kernel.accessAllowed ? 'block' : 'none';\n",
              "\n",
              "        async function convertToInteractive(key) {\n",
              "          const element = document.querySelector('#df-9c97d06b-a2c2-4e52-b290-e745f34056c1');\n",
              "          const dataTable =\n",
              "            await google.colab.kernel.invokeFunction('convertToInteractive',\n",
              "                                                     [key], {});\n",
              "          if (!dataTable) return;\n",
              "\n",
              "          const docLinkHtml = 'Like what you see? Visit the ' +\n",
              "            '<a target=\"_blank\" href=https://colab.research.google.com/notebooks/data_table.ipynb>data table notebook</a>'\n",
              "            + ' to learn more about interactive tables.';\n",
              "          element.innerHTML = '';\n",
              "          dataTable['output_type'] = 'display_data';\n",
              "          await google.colab.output.renderOutput(dataTable, element);\n",
              "          const docLink = document.createElement('div');\n",
              "          docLink.innerHTML = docLinkHtml;\n",
              "          element.appendChild(docLink);\n",
              "        }\n",
              "      </script>\n",
              "    </div>\n",
              "  </div>\n",
              "  "
            ]
          },
          "metadata": {},
          "execution_count": 28
        }
      ],
      "source": [
        "full_data.head()"
      ]
    },
    {
      "cell_type": "code",
      "execution_count": 28,
      "metadata": {
        "id": "wJ2lJXZ6MVKO"
      },
      "outputs": [],
      "source": [
        ""
      ]
    },
    {
      "cell_type": "code",
      "execution_count": 29,
      "metadata": {
        "id": "YFldFn_CMVKO"
      },
      "outputs": [],
      "source": [
        "categorical_col = ['country', 'age_group', 'travel_with', 'purpose', 'main_activity', 'info_source',\n",
        "       'tour_arrangement', 'package_transport_int', 'package_accomodation',\n",
        "       'package_food', 'package_transport_tz', 'package_sightseeing',\n",
        "       'package_guided_tour', 'package_insurance', 'payment_mode', 'first_trip_tz', 'most_impressing']"
      ]
    },
    {
      "cell_type": "code",
      "execution_count": 30,
      "metadata": {
        "id": "TigzdTY2MVKR"
      },
      "outputs": [],
      "source": [
        "for col in categorical_col:\n",
        "    lab = LabelEncoder()#CountEncoder(normalize=True)\n",
        "    lab.fit(full_data[col])\n",
        "    full_data[col] = lab.transform(full_data[col])"
      ]
    },
    {
      "cell_type": "code",
      "execution_count": 31,
      "metadata": {
        "colab": {
          "base_uri": "https://localhost:8080/",
          "height": 300
        },
        "id": "yeMmSl4sMVKU",
        "outputId": "92f7f66d-239d-4f0e-86b0-92dc0f624668"
      },
      "outputs": [
        {
          "output_type": "execute_result",
          "data": {
            "text/plain": [
              "   country  age_group  travel_with  total_female  total_male  purpose  \\\n",
              "0      101          2            2           1.0         1.0        1   \n",
              "1      111          1            0           1.0         0.0        1   \n",
              "2      111          1            0           0.0         1.0        5   \n",
              "3      111          1            3           1.0         1.0        1   \n",
              "4       17          0            0           1.0         0.0        1   \n",
              "\n",
              "   main_activity  info_source  tour_arrangement  package_transport_int  ...  \\\n",
              "0              7            0                 0                      0  ...   \n",
              "1              3            7                 0                      0  ...   \n",
              "2              3            0                 0                      0  ...   \n",
              "3              7            5                 1                      0  ...   \n",
              "4              7            5                 0                      0  ...   \n",
              "\n",
              "   package_transport_tz  package_sightseeing  package_guided_tour  \\\n",
              "0                     0                    0                    0   \n",
              "1                     0                    0                    0   \n",
              "2                     0                    0                    0   \n",
              "3                     1                    1                    1   \n",
              "4                     0                    0                    0   \n",
              "\n",
              "   package_insurance  night_mainland  night_zanzibar  payment_mode  \\\n",
              "0                  0            13.0             0.0             0   \n",
              "1                  0            14.0             7.0             0   \n",
              "2                  0             1.0            31.0             0   \n",
              "3                  0            11.0             0.0             0   \n",
              "4                  0             7.0             4.0             0   \n",
              "\n",
              "   first_trip_tz  most_impressing  train  \n",
              "0              0                2      1  \n",
              "1              1                6      1  \n",
              "2              0                1      1  \n",
              "3              1                2      1  \n",
              "4              1                4      1  \n",
              "\n",
              "[5 rows x 22 columns]"
            ],
            "text/html": [
              "\n",
              "  <div id=\"df-9ed00bbf-0e8e-4aad-bb02-ce428aa4c727\">\n",
              "    <div class=\"colab-df-container\">\n",
              "      <div>\n",
              "<style scoped>\n",
              "    .dataframe tbody tr th:only-of-type {\n",
              "        vertical-align: middle;\n",
              "    }\n",
              "\n",
              "    .dataframe tbody tr th {\n",
              "        vertical-align: top;\n",
              "    }\n",
              "\n",
              "    .dataframe thead th {\n",
              "        text-align: right;\n",
              "    }\n",
              "</style>\n",
              "<table border=\"1\" class=\"dataframe\">\n",
              "  <thead>\n",
              "    <tr style=\"text-align: right;\">\n",
              "      <th></th>\n",
              "      <th>country</th>\n",
              "      <th>age_group</th>\n",
              "      <th>travel_with</th>\n",
              "      <th>total_female</th>\n",
              "      <th>total_male</th>\n",
              "      <th>purpose</th>\n",
              "      <th>main_activity</th>\n",
              "      <th>info_source</th>\n",
              "      <th>tour_arrangement</th>\n",
              "      <th>package_transport_int</th>\n",
              "      <th>...</th>\n",
              "      <th>package_transport_tz</th>\n",
              "      <th>package_sightseeing</th>\n",
              "      <th>package_guided_tour</th>\n",
              "      <th>package_insurance</th>\n",
              "      <th>night_mainland</th>\n",
              "      <th>night_zanzibar</th>\n",
              "      <th>payment_mode</th>\n",
              "      <th>first_trip_tz</th>\n",
              "      <th>most_impressing</th>\n",
              "      <th>train</th>\n",
              "    </tr>\n",
              "  </thead>\n",
              "  <tbody>\n",
              "    <tr>\n",
              "      <th>0</th>\n",
              "      <td>101</td>\n",
              "      <td>2</td>\n",
              "      <td>2</td>\n",
              "      <td>1.0</td>\n",
              "      <td>1.0</td>\n",
              "      <td>1</td>\n",
              "      <td>7</td>\n",
              "      <td>0</td>\n",
              "      <td>0</td>\n",
              "      <td>0</td>\n",
              "      <td>...</td>\n",
              "      <td>0</td>\n",
              "      <td>0</td>\n",
              "      <td>0</td>\n",
              "      <td>0</td>\n",
              "      <td>13.0</td>\n",
              "      <td>0.0</td>\n",
              "      <td>0</td>\n",
              "      <td>0</td>\n",
              "      <td>2</td>\n",
              "      <td>1</td>\n",
              "    </tr>\n",
              "    <tr>\n",
              "      <th>1</th>\n",
              "      <td>111</td>\n",
              "      <td>1</td>\n",
              "      <td>0</td>\n",
              "      <td>1.0</td>\n",
              "      <td>0.0</td>\n",
              "      <td>1</td>\n",
              "      <td>3</td>\n",
              "      <td>7</td>\n",
              "      <td>0</td>\n",
              "      <td>0</td>\n",
              "      <td>...</td>\n",
              "      <td>0</td>\n",
              "      <td>0</td>\n",
              "      <td>0</td>\n",
              "      <td>0</td>\n",
              "      <td>14.0</td>\n",
              "      <td>7.0</td>\n",
              "      <td>0</td>\n",
              "      <td>1</td>\n",
              "      <td>6</td>\n",
              "      <td>1</td>\n",
              "    </tr>\n",
              "    <tr>\n",
              "      <th>2</th>\n",
              "      <td>111</td>\n",
              "      <td>1</td>\n",
              "      <td>0</td>\n",
              "      <td>0.0</td>\n",
              "      <td>1.0</td>\n",
              "      <td>5</td>\n",
              "      <td>3</td>\n",
              "      <td>0</td>\n",
              "      <td>0</td>\n",
              "      <td>0</td>\n",
              "      <td>...</td>\n",
              "      <td>0</td>\n",
              "      <td>0</td>\n",
              "      <td>0</td>\n",
              "      <td>0</td>\n",
              "      <td>1.0</td>\n",
              "      <td>31.0</td>\n",
              "      <td>0</td>\n",
              "      <td>0</td>\n",
              "      <td>1</td>\n",
              "      <td>1</td>\n",
              "    </tr>\n",
              "    <tr>\n",
              "      <th>3</th>\n",
              "      <td>111</td>\n",
              "      <td>1</td>\n",
              "      <td>3</td>\n",
              "      <td>1.0</td>\n",
              "      <td>1.0</td>\n",
              "      <td>1</td>\n",
              "      <td>7</td>\n",
              "      <td>5</td>\n",
              "      <td>1</td>\n",
              "      <td>0</td>\n",
              "      <td>...</td>\n",
              "      <td>1</td>\n",
              "      <td>1</td>\n",
              "      <td>1</td>\n",
              "      <td>0</td>\n",
              "      <td>11.0</td>\n",
              "      <td>0.0</td>\n",
              "      <td>0</td>\n",
              "      <td>1</td>\n",
              "      <td>2</td>\n",
              "      <td>1</td>\n",
              "    </tr>\n",
              "    <tr>\n",
              "      <th>4</th>\n",
              "      <td>17</td>\n",
              "      <td>0</td>\n",
              "      <td>0</td>\n",
              "      <td>1.0</td>\n",
              "      <td>0.0</td>\n",
              "      <td>1</td>\n",
              "      <td>7</td>\n",
              "      <td>5</td>\n",
              "      <td>0</td>\n",
              "      <td>0</td>\n",
              "      <td>...</td>\n",
              "      <td>0</td>\n",
              "      <td>0</td>\n",
              "      <td>0</td>\n",
              "      <td>0</td>\n",
              "      <td>7.0</td>\n",
              "      <td>4.0</td>\n",
              "      <td>0</td>\n",
              "      <td>1</td>\n",
              "      <td>4</td>\n",
              "      <td>1</td>\n",
              "    </tr>\n",
              "  </tbody>\n",
              "</table>\n",
              "<p>5 rows × 22 columns</p>\n",
              "</div>\n",
              "      <button class=\"colab-df-convert\" onclick=\"convertToInteractive('df-9ed00bbf-0e8e-4aad-bb02-ce428aa4c727')\"\n",
              "              title=\"Convert this dataframe to an interactive table.\"\n",
              "              style=\"display:none;\">\n",
              "        \n",
              "  <svg xmlns=\"http://www.w3.org/2000/svg\" height=\"24px\"viewBox=\"0 0 24 24\"\n",
              "       width=\"24px\">\n",
              "    <path d=\"M0 0h24v24H0V0z\" fill=\"none\"/>\n",
              "    <path d=\"M18.56 5.44l.94 2.06.94-2.06 2.06-.94-2.06-.94-.94-2.06-.94 2.06-2.06.94zm-11 1L8.5 8.5l.94-2.06 2.06-.94-2.06-.94L8.5 2.5l-.94 2.06-2.06.94zm10 10l.94 2.06.94-2.06 2.06-.94-2.06-.94-.94-2.06-.94 2.06-2.06.94z\"/><path d=\"M17.41 7.96l-1.37-1.37c-.4-.4-.92-.59-1.43-.59-.52 0-1.04.2-1.43.59L10.3 9.45l-7.72 7.72c-.78.78-.78 2.05 0 2.83L4 21.41c.39.39.9.59 1.41.59.51 0 1.02-.2 1.41-.59l7.78-7.78 2.81-2.81c.8-.78.8-2.07 0-2.86zM5.41 20L4 18.59l7.72-7.72 1.47 1.35L5.41 20z\"/>\n",
              "  </svg>\n",
              "      </button>\n",
              "      \n",
              "  <style>\n",
              "    .colab-df-container {\n",
              "      display:flex;\n",
              "      flex-wrap:wrap;\n",
              "      gap: 12px;\n",
              "    }\n",
              "\n",
              "    .colab-df-convert {\n",
              "      background-color: #E8F0FE;\n",
              "      border: none;\n",
              "      border-radius: 50%;\n",
              "      cursor: pointer;\n",
              "      display: none;\n",
              "      fill: #1967D2;\n",
              "      height: 32px;\n",
              "      padding: 0 0 0 0;\n",
              "      width: 32px;\n",
              "    }\n",
              "\n",
              "    .colab-df-convert:hover {\n",
              "      background-color: #E2EBFA;\n",
              "      box-shadow: 0px 1px 2px rgba(60, 64, 67, 0.3), 0px 1px 3px 1px rgba(60, 64, 67, 0.15);\n",
              "      fill: #174EA6;\n",
              "    }\n",
              "\n",
              "    [theme=dark] .colab-df-convert {\n",
              "      background-color: #3B4455;\n",
              "      fill: #D2E3FC;\n",
              "    }\n",
              "\n",
              "    [theme=dark] .colab-df-convert:hover {\n",
              "      background-color: #434B5C;\n",
              "      box-shadow: 0px 1px 3px 1px rgba(0, 0, 0, 0.15);\n",
              "      filter: drop-shadow(0px 1px 2px rgba(0, 0, 0, 0.3));\n",
              "      fill: #FFFFFF;\n",
              "    }\n",
              "  </style>\n",
              "\n",
              "      <script>\n",
              "        const buttonEl =\n",
              "          document.querySelector('#df-9ed00bbf-0e8e-4aad-bb02-ce428aa4c727 button.colab-df-convert');\n",
              "        buttonEl.style.display =\n",
              "          google.colab.kernel.accessAllowed ? 'block' : 'none';\n",
              "\n",
              "        async function convertToInteractive(key) {\n",
              "          const element = document.querySelector('#df-9ed00bbf-0e8e-4aad-bb02-ce428aa4c727');\n",
              "          const dataTable =\n",
              "            await google.colab.kernel.invokeFunction('convertToInteractive',\n",
              "                                                     [key], {});\n",
              "          if (!dataTable) return;\n",
              "\n",
              "          const docLinkHtml = 'Like what you see? Visit the ' +\n",
              "            '<a target=\"_blank\" href=https://colab.research.google.com/notebooks/data_table.ipynb>data table notebook</a>'\n",
              "            + ' to learn more about interactive tables.';\n",
              "          element.innerHTML = '';\n",
              "          dataTable['output_type'] = 'display_data';\n",
              "          await google.colab.output.renderOutput(dataTable, element);\n",
              "          const docLink = document.createElement('div');\n",
              "          docLink.innerHTML = docLinkHtml;\n",
              "          element.appendChild(docLink);\n",
              "        }\n",
              "      </script>\n",
              "    </div>\n",
              "  </div>\n",
              "  "
            ]
          },
          "metadata": {},
          "execution_count": 31
        }
      ],
      "source": [
        "full_data.head()"
      ]
    },
    {
      "cell_type": "code",
      "execution_count": 31,
      "metadata": {
        "id": "UgdWfqNCMVKX"
      },
      "outputs": [],
      "source": [
        ""
      ]
    },
    {
      "cell_type": "code",
      "execution_count": 32,
      "metadata": {
        "id": "977VZmGwMVLE"
      },
      "outputs": [],
      "source": [
        "train_set = full_data[full_data.train == 1]\n",
        "test_set = full_data[full_data.train == 0]"
      ]
    },
    {
      "cell_type": "code",
      "execution_count": 33,
      "metadata": {
        "id": "6na-tHAAMVLG"
      },
      "outputs": [],
      "source": [
        "train_set =  train_set.drop('train',axis = 1)\n",
        "test_set =  test_set.drop('train',axis = 1)"
      ]
    },
    {
      "cell_type": "code",
      "execution_count": 34,
      "metadata": {
        "id": "Dx1xny1CMVLK"
      },
      "outputs": [],
      "source": [
        "X = train_set\n",
        "#.drop(['most_impressing','total_male','info_source','main_activity','package_accomodation',\n",
        " #                   'payment_mode','purpose','package_insurance','first_trip_tz','package_transport_int',\n",
        "  #                  'package_sightseeing','package_transport_tz','package_guided_tour','package_food'],axis=1)\n",
        "y = train_data['total_cost']"
      ]
    },
    {
      "cell_type": "code",
      "execution_count": 35,
      "metadata": {
        "id": "_ZwHqfGNMVLL"
      },
      "outputs": [],
      "source": [
        "X_train,X_test,y_train,y_test = train_test_split(X,y,test_size=0.2, random_state=42)"
      ]
    },
    {
      "cell_type": "code",
      "execution_count": 36,
      "metadata": {
        "id": "pE0IkcwyMVLN"
      },
      "outputs": [],
      "source": [
        "#model = RandomForestRegressor(n_estimators = 700, random_state = 42)\n",
        "model = XGBRegressor(n_estimator=500, learning_rate=0.05, n_jobs=4)"
      ]
    },
    {
      "cell_type": "code",
      "execution_count": 37,
      "metadata": {
        "colab": {
          "base_uri": "https://localhost:8080/"
        },
        "id": "e5PlMZFtMVLR",
        "outputId": "57e0de85-e255-40ba-a7bd-bb3dc2f4e26c"
      },
      "outputs": [
        {
          "output_type": "stream",
          "name": "stdout",
          "text": [
            "[23:14:17] WARNING: /workspace/src/objective/regression_obj.cu:152: reg:linear is now deprecated in favor of reg:squarederror.\n"
          ]
        },
        {
          "output_type": "execute_result",
          "data": {
            "text/plain": [
              "XGBRegressor(learning_rate=0.05, n_estimator=500, n_jobs=4)"
            ]
          },
          "metadata": {},
          "execution_count": 37
        }
      ],
      "source": [
        "model.fit(X_train,y_train)"
      ]
    },
    {
      "cell_type": "code",
      "execution_count": 38,
      "metadata": {
        "id": "sT0GDAdZMVLS"
      },
      "outputs": [],
      "source": [
        "pred = model.predict(X_test)"
      ]
    },
    {
      "cell_type": "code",
      "execution_count": 39,
      "metadata": {
        "colab": {
          "base_uri": "https://localhost:8080/"
        },
        "id": "qx5UspvrMVLT",
        "outputId": "c1d19019-338f-4e10-faf2-1a5d95f9c7b4"
      },
      "outputs": [
        {
          "output_type": "stream",
          "name": "stdout",
          "text": [
            "4930794.215807952\n"
          ]
        }
      ],
      "source": [
        "print(mean_absolute_error(y_test, pred))"
      ]
    },
    {
      "cell_type": "code",
      "execution_count": 39,
      "metadata": {
        "id": "grbttc3hMVMO"
      },
      "outputs": [],
      "source": [
        ""
      ]
    },
    {
      "cell_type": "code",
      "execution_count": 39,
      "metadata": {
        "id": "HByeejPkMVMP"
      },
      "outputs": [],
      "source": [
        ""
      ]
    },
    {
      "cell_type": "code",
      "execution_count": 43,
      "metadata": {
        "id": "Muc1r7HBMVMQ"
      },
      "outputs": [],
      "source": [
        "test =  test_set\n",
        "test_pred =  model.predict(test)\n",
        "\n",
        "submission['total_cost'] = test_pred\n",
        "submission.to_csv('GodwithusTourPred1.csv',index =  False)"
      ]
    },
    {
      "cell_type": "code",
      "execution_count": 40,
      "metadata": {
        "id": "LF5FkJP7MVMR"
      },
      "outputs": [],
      "source": [
        ""
      ]
    },
    {
      "cell_type": "code",
      "execution_count": 41,
      "metadata": {
        "id": "dh22d6r8MVMT"
      },
      "outputs": [],
      "source": [
        "#checking feature importance to drop columns\n",
        "\n",
        "feature_importances = pd.DataFrame(model.feature_importances_,\n",
        "                                  index=X_train.columns,\n",
        "                                  columns=['Importance']).sort_values('Importance', ascending=False)"
      ]
    },
    {
      "cell_type": "code",
      "execution_count": 42,
      "metadata": {
        "colab": {
          "base_uri": "https://localhost:8080/",
          "height": 708
        },
        "id": "0lJ54HzAMVMU",
        "outputId": "0705c8a1-6412-41a0-d728-2f86465cc10a"
      },
      "outputs": [
        {
          "output_type": "execute_result",
          "data": {
            "text/plain": [
              "                       Importance\n",
              "tour_arrangement         0.414703\n",
              "package_accomodation     0.303889\n",
              "package_transport_tz     0.082537\n",
              "package_transport_int    0.041490\n",
              "travel_with              0.029427\n",
              "package_sightseeing      0.012902\n",
              "age_group                0.012806\n",
              "total_male               0.012806\n",
              "total_female             0.011741\n",
              "country                  0.009939\n",
              "night_zanzibar           0.009103\n",
              "night_mainland           0.008253\n",
              "most_impressing          0.007867\n",
              "payment_mode             0.007636\n",
              "info_source              0.007315\n",
              "first_trip_tz            0.006676\n",
              "purpose                  0.005265\n",
              "package_food             0.005144\n",
              "main_activity            0.004808\n",
              "package_insurance        0.004222\n",
              "package_guided_tour      0.001474"
            ],
            "text/html": [
              "\n",
              "  <div id=\"df-9ae3ecbd-a5dc-4ca8-b2f7-317e165fbade\">\n",
              "    <div class=\"colab-df-container\">\n",
              "      <div>\n",
              "<style scoped>\n",
              "    .dataframe tbody tr th:only-of-type {\n",
              "        vertical-align: middle;\n",
              "    }\n",
              "\n",
              "    .dataframe tbody tr th {\n",
              "        vertical-align: top;\n",
              "    }\n",
              "\n",
              "    .dataframe thead th {\n",
              "        text-align: right;\n",
              "    }\n",
              "</style>\n",
              "<table border=\"1\" class=\"dataframe\">\n",
              "  <thead>\n",
              "    <tr style=\"text-align: right;\">\n",
              "      <th></th>\n",
              "      <th>Importance</th>\n",
              "    </tr>\n",
              "  </thead>\n",
              "  <tbody>\n",
              "    <tr>\n",
              "      <th>tour_arrangement</th>\n",
              "      <td>0.414703</td>\n",
              "    </tr>\n",
              "    <tr>\n",
              "      <th>package_accomodation</th>\n",
              "      <td>0.303889</td>\n",
              "    </tr>\n",
              "    <tr>\n",
              "      <th>package_transport_tz</th>\n",
              "      <td>0.082537</td>\n",
              "    </tr>\n",
              "    <tr>\n",
              "      <th>package_transport_int</th>\n",
              "      <td>0.041490</td>\n",
              "    </tr>\n",
              "    <tr>\n",
              "      <th>travel_with</th>\n",
              "      <td>0.029427</td>\n",
              "    </tr>\n",
              "    <tr>\n",
              "      <th>package_sightseeing</th>\n",
              "      <td>0.012902</td>\n",
              "    </tr>\n",
              "    <tr>\n",
              "      <th>age_group</th>\n",
              "      <td>0.012806</td>\n",
              "    </tr>\n",
              "    <tr>\n",
              "      <th>total_male</th>\n",
              "      <td>0.012806</td>\n",
              "    </tr>\n",
              "    <tr>\n",
              "      <th>total_female</th>\n",
              "      <td>0.011741</td>\n",
              "    </tr>\n",
              "    <tr>\n",
              "      <th>country</th>\n",
              "      <td>0.009939</td>\n",
              "    </tr>\n",
              "    <tr>\n",
              "      <th>night_zanzibar</th>\n",
              "      <td>0.009103</td>\n",
              "    </tr>\n",
              "    <tr>\n",
              "      <th>night_mainland</th>\n",
              "      <td>0.008253</td>\n",
              "    </tr>\n",
              "    <tr>\n",
              "      <th>most_impressing</th>\n",
              "      <td>0.007867</td>\n",
              "    </tr>\n",
              "    <tr>\n",
              "      <th>payment_mode</th>\n",
              "      <td>0.007636</td>\n",
              "    </tr>\n",
              "    <tr>\n",
              "      <th>info_source</th>\n",
              "      <td>0.007315</td>\n",
              "    </tr>\n",
              "    <tr>\n",
              "      <th>first_trip_tz</th>\n",
              "      <td>0.006676</td>\n",
              "    </tr>\n",
              "    <tr>\n",
              "      <th>purpose</th>\n",
              "      <td>0.005265</td>\n",
              "    </tr>\n",
              "    <tr>\n",
              "      <th>package_food</th>\n",
              "      <td>0.005144</td>\n",
              "    </tr>\n",
              "    <tr>\n",
              "      <th>main_activity</th>\n",
              "      <td>0.004808</td>\n",
              "    </tr>\n",
              "    <tr>\n",
              "      <th>package_insurance</th>\n",
              "      <td>0.004222</td>\n",
              "    </tr>\n",
              "    <tr>\n",
              "      <th>package_guided_tour</th>\n",
              "      <td>0.001474</td>\n",
              "    </tr>\n",
              "  </tbody>\n",
              "</table>\n",
              "</div>\n",
              "      <button class=\"colab-df-convert\" onclick=\"convertToInteractive('df-9ae3ecbd-a5dc-4ca8-b2f7-317e165fbade')\"\n",
              "              title=\"Convert this dataframe to an interactive table.\"\n",
              "              style=\"display:none;\">\n",
              "        \n",
              "  <svg xmlns=\"http://www.w3.org/2000/svg\" height=\"24px\"viewBox=\"0 0 24 24\"\n",
              "       width=\"24px\">\n",
              "    <path d=\"M0 0h24v24H0V0z\" fill=\"none\"/>\n",
              "    <path d=\"M18.56 5.44l.94 2.06.94-2.06 2.06-.94-2.06-.94-.94-2.06-.94 2.06-2.06.94zm-11 1L8.5 8.5l.94-2.06 2.06-.94-2.06-.94L8.5 2.5l-.94 2.06-2.06.94zm10 10l.94 2.06.94-2.06 2.06-.94-2.06-.94-.94-2.06-.94 2.06-2.06.94z\"/><path d=\"M17.41 7.96l-1.37-1.37c-.4-.4-.92-.59-1.43-.59-.52 0-1.04.2-1.43.59L10.3 9.45l-7.72 7.72c-.78.78-.78 2.05 0 2.83L4 21.41c.39.39.9.59 1.41.59.51 0 1.02-.2 1.41-.59l7.78-7.78 2.81-2.81c.8-.78.8-2.07 0-2.86zM5.41 20L4 18.59l7.72-7.72 1.47 1.35L5.41 20z\"/>\n",
              "  </svg>\n",
              "      </button>\n",
              "      \n",
              "  <style>\n",
              "    .colab-df-container {\n",
              "      display:flex;\n",
              "      flex-wrap:wrap;\n",
              "      gap: 12px;\n",
              "    }\n",
              "\n",
              "    .colab-df-convert {\n",
              "      background-color: #E8F0FE;\n",
              "      border: none;\n",
              "      border-radius: 50%;\n",
              "      cursor: pointer;\n",
              "      display: none;\n",
              "      fill: #1967D2;\n",
              "      height: 32px;\n",
              "      padding: 0 0 0 0;\n",
              "      width: 32px;\n",
              "    }\n",
              "\n",
              "    .colab-df-convert:hover {\n",
              "      background-color: #E2EBFA;\n",
              "      box-shadow: 0px 1px 2px rgba(60, 64, 67, 0.3), 0px 1px 3px 1px rgba(60, 64, 67, 0.15);\n",
              "      fill: #174EA6;\n",
              "    }\n",
              "\n",
              "    [theme=dark] .colab-df-convert {\n",
              "      background-color: #3B4455;\n",
              "      fill: #D2E3FC;\n",
              "    }\n",
              "\n",
              "    [theme=dark] .colab-df-convert:hover {\n",
              "      background-color: #434B5C;\n",
              "      box-shadow: 0px 1px 3px 1px rgba(0, 0, 0, 0.15);\n",
              "      filter: drop-shadow(0px 1px 2px rgba(0, 0, 0, 0.3));\n",
              "      fill: #FFFFFF;\n",
              "    }\n",
              "  </style>\n",
              "\n",
              "      <script>\n",
              "        const buttonEl =\n",
              "          document.querySelector('#df-9ae3ecbd-a5dc-4ca8-b2f7-317e165fbade button.colab-df-convert');\n",
              "        buttonEl.style.display =\n",
              "          google.colab.kernel.accessAllowed ? 'block' : 'none';\n",
              "\n",
              "        async function convertToInteractive(key) {\n",
              "          const element = document.querySelector('#df-9ae3ecbd-a5dc-4ca8-b2f7-317e165fbade');\n",
              "          const dataTable =\n",
              "            await google.colab.kernel.invokeFunction('convertToInteractive',\n",
              "                                                     [key], {});\n",
              "          if (!dataTable) return;\n",
              "\n",
              "          const docLinkHtml = 'Like what you see? Visit the ' +\n",
              "            '<a target=\"_blank\" href=https://colab.research.google.com/notebooks/data_table.ipynb>data table notebook</a>'\n",
              "            + ' to learn more about interactive tables.';\n",
              "          element.innerHTML = '';\n",
              "          dataTable['output_type'] = 'display_data';\n",
              "          await google.colab.output.renderOutput(dataTable, element);\n",
              "          const docLink = document.createElement('div');\n",
              "          docLink.innerHTML = docLinkHtml;\n",
              "          element.appendChild(docLink);\n",
              "        }\n",
              "      </script>\n",
              "    </div>\n",
              "  </div>\n",
              "  "
            ]
          },
          "metadata": {},
          "execution_count": 42
        }
      ],
      "source": [
        "feature_importances"
      ]
    },
    {
      "cell_type": "code",
      "execution_count": 42,
      "metadata": {
        "id": "KafuIL2FMVMV"
      },
      "outputs": [],
      "source": [
        ""
      ]
    }
  ],
  "metadata": {
    "kernelspec": {
      "display_name": "Python 3",
      "language": "python",
      "name": "python3"
    },
    "language_info": {
      "codemirror_mode": {
        "name": "ipython",
        "version": 3
      },
      "file_extension": ".py",
      "mimetype": "text/x-python",
      "name": "python",
      "nbconvert_exporter": "python",
      "pygments_lexer": "ipython3",
      "version": "3.8.5"
    },
    "colab": {
      "name": "TourismPredict.ipynb",
      "provenance": []
    }
  },
  "nbformat": 4,
  "nbformat_minor": 0
}